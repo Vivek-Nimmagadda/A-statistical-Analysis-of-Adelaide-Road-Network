{
 "cells": [
  {
   "cell_type": "code",
   "execution_count": 1,
   "id": "fresh-editing",
   "metadata": {},
   "outputs": [],
   "source": [
    "# Loading the Google API key from a Text File\n",
    "with open('apikey.txt') as f:\n",
    "    api_key = f.readline()\n",
    "    f.close"
   ]
  },
  {
   "cell_type": "code",
   "execution_count": 2,
   "id": "found-cattle",
   "metadata": {},
   "outputs": [],
   "source": [
    "# Configuring the API key\n",
    "import gmaps\n",
    "gmaps.configure(api_key=api_key)"
   ]
  },
  {
   "cell_type": "code",
   "execution_count": 3,
   "id": "silver-metro",
   "metadata": {},
   "outputs": [],
   "source": [
    "# Loading the Sites Data\n",
    "import pandas as pd\n",
    "\n",
    "sites = pd.read_csv('/Users/vivekchowdary/Desktop/Capstone Project/Sites.csv')\n",
    "sites_lat_long = sites[['latitude','longitude']]\n",
    "\n",
    "sites_layer = gmaps.symbol_layer(\n",
    "sites_lat_long, fill_color='green', stroke_color='green'\n",
    ")"
   ]
  },
  {
   "cell_type": "code",
   "execution_count": 4,
   "id": "immediate-brown",
   "metadata": {},
   "outputs": [
    {
     "data": {
      "application/vnd.jupyter.widget-view+json": {
       "model_id": "b766b8196c764d53b78302eb51b74ddf",
       "version_major": 2,
       "version_minor": 0
      },
      "text/plain": [
       "HBox(children=(Dropdown(description='Source:', options=('ALL', 2, 3, 4, 6, 7, 8, 9, 10, 11, 12, 13, 14, 15, 16…"
      ]
     },
     "metadata": {},
     "output_type": "display_data"
    },
    {
     "data": {
      "application/vnd.jupyter.widget-view+json": {
       "model_id": "8c26c8d7f4ee4501b184a7ee6c6a6dbd",
       "version_major": 2,
       "version_minor": 0
      },
      "text/plain": [
       "Output()"
      ]
     },
     "metadata": {},
     "output_type": "display_data"
    }
   ],
   "source": [
    "###################### Selecting the Source Probe ID using a drop-down list! ############################\n",
    "import pandas as pd\n",
    "import numpy as np\n",
    "import ipywidgets as widgets\n",
    "from ipywidgets import Layout, AppLayout\n",
    "from IPython.display import display\n",
    "import functools\n",
    " \n",
    "output_dataframe = None\n",
    "\n",
    "# Get our unique values\n",
    "ALL = 'ALL'\n",
    "def unique_sorted_values_plus_ALL(array):\n",
    "    unique = array.unique().tolist()\n",
    "    unique.sort()\n",
    "    unique.insert(0, ALL)\n",
    "    return unique\n",
    "\n",
    "output = widgets.Output()\n",
    "\n",
    "# Dropdown listbox\n",
    "dropdown_source = widgets.Dropdown(description='Source:',\n",
    "                                  options = unique_sorted_values_plus_ALL(sites.Source))\n",
    "\n",
    "        \n",
    "        \n",
    "# Function to filter out dropdown listbox\n",
    "def common_filtering(source):\n",
    "    global output_dataframe\n",
    "    df = sites.copy()\n",
    "        \n",
    "    filters = []\n",
    "    \n",
    "    # Evaluate our dropdown listbox and return booleans for our selections\n",
    "    if source is not ALL:\n",
    "        filters.append(df['Source'] == source)\n",
    "    \n",
    "    output.clear_output()\n",
    "    \n",
    "    with output:\n",
    "        if filters:\n",
    "            df_filter = functools.reduce(lambda x,y: x&y, filters)\n",
    "            output_dataframe = df.loc[df_filter]\n",
    "        else:\n",
    "            output_dataframe = df\n",
    "        display(output_dataframe)\n",
    "\n",
    "def dropdown_source_eventhandler(change):\n",
    "    common_filtering(change.new)\n",
    "\n",
    "dropdown_source.observe(dropdown_source_eventhandler, names='value')\n",
    "\n",
    "ui = widgets.HBox([dropdown_source])\n",
    "\n",
    "display(ui, output)"
   ]
  },
  {
   "cell_type": "code",
   "execution_count": 70,
   "id": "aggressive-million",
   "metadata": {},
   "outputs": [
    {
     "data": {
      "text/plain": [
       "(-35.005234, 138.557875)"
      ]
     },
     "execution_count": 70,
     "metadata": {},
     "output_type": "execute_result"
    }
   ],
   "source": [
    "# Storing the Retrieved Source Probe ID Data in a DataFrame Variable\n",
    "x = pd.DataFrame(output_dataframe)\n",
    "x = x.reset_index(drop=True)\n",
    "\n",
    "source = x['latitude'][0],x['longitude'][0]\n",
    "source"
   ]
  },
  {
   "cell_type": "code",
   "execution_count": 71,
   "id": "existing-pathology",
   "metadata": {},
   "outputs": [
    {
     "data": {
      "application/vnd.jupyter.widget-view+json": {
       "model_id": "ca788f8b79814f81b103520d900b3ba3",
       "version_major": 2,
       "version_minor": 0
      },
      "text/plain": [
       "HBox(children=(Dropdown(description='Destination:', options=('ALL', 2, 3, 4, 6, 7, 8, 9, 10, 11, 12, 13, 14, 1…"
      ]
     },
     "metadata": {},
     "output_type": "display_data"
    },
    {
     "data": {
      "application/vnd.jupyter.widget-view+json": {
       "model_id": "16024e4ccfa449a981e04f7248d573c6",
       "version_major": 2,
       "version_minor": 0
      },
      "text/plain": [
       "Output()"
      ]
     },
     "metadata": {},
     "output_type": "display_data"
    }
   ],
   "source": [
    "###################### Selecting the Destination Probe ID using a drop-down list! ############################\n",
    "import pandas as pd\n",
    "import numpy as np\n",
    "import ipywidgets as widgets\n",
    "from ipywidgets import Layout, AppLayout\n",
    "from IPython.display import display\n",
    "import functools\n",
    " \n",
    "output_dataframe = None\n",
    "\n",
    "# Get our unique values\n",
    "ALL = 'ALL'\n",
    "def unique_sorted_values_plus_ALL(array):\n",
    "    unique = array.unique().tolist()\n",
    "    unique.sort()\n",
    "    unique.insert(0, ALL)\n",
    "    return unique\n",
    "\n",
    "output = widgets.Output()\n",
    "\n",
    "# Dropdown listbox\n",
    "dropdown_destination = widgets.Dropdown(description='Destination:',\n",
    "                                  options = unique_sorted_values_plus_ALL(sites.Destination))\n",
    "\n",
    "        \n",
    "        \n",
    "# Function to filter our dropdown listboxe\n",
    "def common_filtering(destination):\n",
    "    global output_dataframe\n",
    "    df = sites.copy()\n",
    "        \n",
    "    filters = []\n",
    "    \n",
    "    # Evaluate our dropdown listbox and return booleans for our selections\n",
    "    if destination is not ALL:\n",
    "        filters.append(df['Destination'] == destination)\n",
    "    \n",
    "    output.clear_output()\n",
    "    \n",
    "    with output:\n",
    "        if filters:\n",
    "            df_filter = functools.reduce(lambda x,y: x&y, filters)\n",
    "            output_dataframe = df.loc[df_filter]\n",
    "        else:\n",
    "            output_dataframe = df\n",
    "        display(output_dataframe)\n",
    "\n",
    "def dropdown_destination_eventhandler(change):\n",
    "    common_filtering(change.new)\n",
    "\n",
    "dropdown_destination.observe(dropdown_destination_eventhandler, names='value')\n",
    "\n",
    "ui = widgets.HBox([dropdown_destination])\n",
    "\n",
    "display(ui, output)"
   ]
  },
  {
   "cell_type": "code",
   "execution_count": 72,
   "id": "decent-raising",
   "metadata": {},
   "outputs": [
    {
     "data": {
      "text/plain": [
       "(-34.919526, 138.494303)"
      ]
     },
     "execution_count": 72,
     "metadata": {},
     "output_type": "execute_result"
    }
   ],
   "source": [
    "# Storing the Retrieved Destination Probe ID Data in a DataFrame Variable\n",
    "x = pd.DataFrame(output_dataframe)\n",
    "x = x.reset_index(drop=True)\n",
    "\n",
    "destination = x['latitude'][0],x['longitude'][0]\n",
    "destination"
   ]
  },
  {
   "cell_type": "code",
   "execution_count": 73,
   "id": "commercial-deviation",
   "metadata": {},
   "outputs": [
    {
     "data": {
      "application/vnd.jupyter.widget-view+json": {
       "model_id": "0b604a9fef8945be8107884c4513ccfe",
       "version_major": 2,
       "version_minor": 0
      },
      "text/plain": [
       "Figure(layout=FigureLayout(height='420px'))"
      ]
     },
     "metadata": {},
     "output_type": "display_data"
    }
   ],
   "source": [
    "#Create the map\n",
    "fig = gmaps.figure()\n",
    "#create the layer\n",
    "layer1 = gmaps.directions.Directions(source, destination, mode='car')\n",
    "#layer = gmaps.directions.Directions(source, destination, waypoints=[montreux], mode='car')\n",
    "#Add the layer\n",
    "#fig.add_layer(layer)\n",
    "fig.add_layer(layer1)\n",
    "fig"
   ]
  },
  {
   "cell_type": "code",
   "execution_count": 9,
   "id": "exclusive-glass",
   "metadata": {
    "scrolled": false
   },
   "outputs": [
    {
     "data": {
      "application/vnd.jupyter.widget-view+json": {
       "model_id": "38df566a906249a9a94fff4d2aab3710",
       "version_major": 2,
       "version_minor": 0
      },
      "text/plain": [
       "Figure(layout=FigureLayout(height='420px'))"
      ]
     },
     "metadata": {},
     "output_type": "display_data"
    }
   ],
   "source": [
    "# This code plots all the sites as a bubble plot (However, it is too slow as there are more than 1k points)\n",
    "#fig.add_layer(sites_layer)\n",
    "#fig"
   ]
  },
  {
   "cell_type": "code",
   "execution_count": 74,
   "id": "abandoned-choice",
   "metadata": {},
   "outputs": [
    {
     "data": {
      "application/vnd.jupyter.widget-view+json": {
       "model_id": "de58fde7bb8e42eaa735c8c41604e68f",
       "version_major": 2,
       "version_minor": 0
      },
      "text/plain": [
       "DatetimePicker(value=None)"
      ]
     },
     "metadata": {},
     "output_type": "display_data"
    }
   ],
   "source": [
    "# Selecting a date and time to retrieve the travel distance and time taken in Kms and Minutes respectively\n",
    "from ipydatetime import DatetimePicker\n",
    "\n",
    "A = DatetimePicker()\n",
    "A"
   ]
  },
  {
   "cell_type": "code",
   "execution_count": 75,
   "id": "exceptional-january",
   "metadata": {},
   "outputs": [
    {
     "data": {
      "text/plain": [
       "datetime.datetime(2021, 11, 8, 9, 38, tzinfo=datetime.timezone(datetime.timedelta(seconds=37800), 'ACDT'))"
      ]
     },
     "execution_count": 75,
     "metadata": {},
     "output_type": "execute_result"
    }
   ],
   "source": [
    "out = A.value\n",
    "out"
   ]
  },
  {
   "cell_type": "code",
   "execution_count": 76,
   "id": "headed-logic",
   "metadata": {},
   "outputs": [
    {
     "data": {
      "text/plain": [
       "'2021-11-08 09:38:00'"
      ]
     },
     "execution_count": 76,
     "metadata": {},
     "output_type": "execute_result"
    }
   ],
   "source": [
    "i = str(out)\n",
    "i = i[:-6]\n",
    "i"
   ]
  },
  {
   "cell_type": "code",
   "execution_count": 74,
   "id": "afraid-script",
   "metadata": {},
   "outputs": [
    {
     "data": {
      "text/plain": [
       "datetime.datetime(2021, 9, 24, 1, 59, tzinfo=datetime.timezone(datetime.timedelta(seconds=34200), 'ACST'))"
      ]
     },
     "execution_count": 74,
     "metadata": {},
     "output_type": "execute_result"
    }
   ],
   "source": [
    "#from datetime import timedelta\n",
    "#out - timedelta(hours=9, minutes=30)"
   ]
  },
  {
   "cell_type": "code",
   "execution_count": 77,
   "id": "valued-owner",
   "metadata": {},
   "outputs": [
    {
     "data": {
      "text/plain": [
       "datetime.datetime(2021, 11, 7, 23, 8, tzinfo=<UTC>)"
      ]
     },
     "execution_count": 77,
     "metadata": {},
     "output_type": "execute_result"
    }
   ],
   "source": [
    "from datetime import datetime   \n",
    "import pytz\n",
    "\n",
    "local = pytz.timezone(\"Australia/Adelaide\")\n",
    "naive = datetime.strptime(i, \"%Y-%m-%d %H:%M:%S\")\n",
    "local_dt = local.localize(naive, is_dst=None)\n",
    "utc_dt = local_dt.astimezone(pytz.utc)\n",
    "utc_dt"
   ]
  },
  {
   "cell_type": "code",
   "execution_count": 78,
   "id": "palestinian-bryan",
   "metadata": {},
   "outputs": [
    {
     "data": {
      "text/plain": [
       "datetime.datetime(2021, 11, 7, 23, 8)"
      ]
     },
     "execution_count": 78,
     "metadata": {},
     "output_type": "execute_result"
    }
   ],
   "source": [
    "utc_dt = utc_dt.replace(tzinfo=None)\n",
    "utc_dt"
   ]
  },
  {
   "cell_type": "code",
   "execution_count": 79,
   "id": "played-removal",
   "metadata": {},
   "outputs": [
    {
     "data": {
      "text/plain": [
       "1636326480.0"
      ]
     },
     "execution_count": 79,
     "metadata": {},
     "output_type": "execute_result"
    }
   ],
   "source": [
    "unix_time = (utc_dt - datetime(1970,1,1)).total_seconds()\n",
    "unix_time"
   ]
  },
  {
   "cell_type": "code",
   "execution_count": 80,
   "id": "choice-january",
   "metadata": {},
   "outputs": [
    {
     "name": "stdout",
     "output_type": "stream",
     "text": [
      "The distance between points A & B is:  14.6 km\n",
      "The normal time interval is:  22 mins\n",
      "The estimated time of arrival during peak hours is:  31 mins\n"
     ]
    }
   ],
   "source": [
    "import googlemaps\n",
    "from datetime import datetime\n",
    "\n",
    "maps = googlemaps.Client(key=api_key)\n",
    "\n",
    "now = datetime.now()\n",
    "directions_result = maps.directions(source,\n",
    "                                 destination,\n",
    "                                 mode=\"driving\",\n",
    "                                avoid=\"ferries\",\n",
    "                                departure_time=unix_time,\n",
    "                                traffic_model = \"pessimistic\")\n",
    "print(\"The distance between points A & B is: \", directions_result[0]['legs'][0]['distance']['text'])\n",
    "print(\"The normal time interval is: \", directions_result[0]['legs'][0]['duration']['text'])\n",
    "print(\"The estimated time of arrival during peak hours is: \", directions_result[0]['legs'][0]['duration_in_traffic']['text'])\n"
   ]
  },
  {
   "cell_type": "code",
   "execution_count": 81,
   "id": "synthetic-frederick",
   "metadata": {},
   "outputs": [
    {
     "name": "stdout",
     "output_type": "stream",
     "text": [
      "         lat         lng\n",
      "0 -35.005236  138.557838\n",
      "1 -34.993740  138.556901\n",
      "2 -34.996711  138.530533\n",
      "3 -34.985050  138.520612\n",
      "4 -34.944910  138.517650\n",
      "5 -34.945433  138.504639\n",
      "6 -34.937642  138.501814\n",
      "7 -34.938106  138.500097\n",
      "8 -34.925580  138.496010\n",
      "8 -34.919530  138.494280\n"
     ]
    }
   ],
   "source": [
    "# Extracting all the coordinate changes of the route from Source to Destination\n",
    "\n",
    "start_cords = []\n",
    "end_cords = []\n",
    "\n",
    "# Looping through the directions_result dictionary and fetching all the start and end coordinates\n",
    "for i in range(0,len(directions_result[0]['legs'][0]['steps'])):\n",
    "    start_cords.append(directions_result[0]['legs'][0]['steps'][i]['start_location'])\n",
    "    end_cords.append(directions_result[0]['legs'][0]['steps'][i]['end_location'])\n",
    "\n",
    "start_cords = pd.DataFrame(start_cords)\n",
    "end_cords = pd.DataFrame(end_cords)\n",
    "\n",
    "all_cords = pd.concat([start_cords, end_cords[-1:]])\n",
    "\n",
    "start_cords[\"start_lat_lng\"] = start_cords[\"lat\"].astype(str) + ', ' + start_cords[\"lng\"].astype(str)\n",
    "end_cords[\"end_lat_lng\"] = end_cords[\"lat\"].astype(str) + ', ' + end_cords[\"lng\"].astype(str)\n",
    "\n",
    "# Storing the coordinates inside a dataframe\n",
    "start_end_cords = pd.concat([start_cords[\"start_lat_lng\"], end_cords[\"end_lat_lng\"]], axis = 1)\n",
    "\n",
    "all_start_end_cords = pd.concat([start_cords[\"start_lat_lng\"], end_cords[\"end_lat_lng\"][-1:]])\n",
    "all_start_end_cords = all_start_end_cords.reset_index(drop = True)\n",
    "\n",
    "print(all_cords)\n",
    "    \n",
    "#print(end_cords[\"end_lat_lng\"][-1:]) # printing only the last record of a dataframe as a dataframe\n",
    "    #print(\"Start Location \"+str(i),directions_result[0]['legs'][0]['steps'][i]['start_location'])\n",
    "    #print(\"End Location \"+str(i),directions_result[0]['legs'][0]['steps'][i]['end_location'])"
   ]
  },
  {
   "cell_type": "code",
   "execution_count": 82,
   "id": "elegant-closure",
   "metadata": {},
   "outputs": [
    {
     "name": "stdout",
     "output_type": "stream",
     "text": [
      "0    -35.0052358, 138.5578379\n",
      "1      -34.99374, 138.5569013\n",
      "2    -34.9967113, 138.5305329\n",
      "3      -34.98505, 138.5206119\n",
      "4    -34.9449099, 138.5176503\n",
      "5    -34.9454333, 138.5046389\n",
      "6    -34.9376422, 138.5018136\n",
      "7    -34.9381061, 138.5000974\n",
      "8    -34.9255802, 138.4960097\n",
      "9    -34.9195303, 138.4942798\n",
      "dtype: object\n",
      "                 sites_cords\n",
      "0     -34.986657, 138.523289\n",
      "1     -34.872397, 138.548194\n",
      "2      -34.838911, 138.48399\n",
      "3     -34.844355, 138.505376\n",
      "4     -34.852355, 138.509519\n",
      "...                      ...\n",
      "1184  -34.929844, 138.455414\n",
      "1185  -34.997345, 138.630646\n",
      "1186  -35.004837, 138.625351\n",
      "1187  -34.929844, 138.455414\n",
      "1188  -34.929844, 138.455414\n",
      "\n",
      "[1189 rows x 1 columns]\n"
     ]
    }
   ],
   "source": [
    "print(all_start_end_cords)\n",
    "\n",
    "sites_cords = pd.DataFrame()\n",
    "\n",
    "sites_cords[\"sites_cords\"] = sites_lat_long[\"latitude\"].astype(str) + ', ' + sites_lat_long[\"longitude\"].astype(str)\n",
    "print(sites_cords)"
   ]
  },
  {
   "cell_type": "code",
   "execution_count": 83,
   "id": "controlled-journal",
   "metadata": {},
   "outputs": [
    {
     "data": {
      "application/vnd.jupyter.widget-view+json": {
       "model_id": "0b604a9fef8945be8107884c4513ccfe",
       "version_major": 2,
       "version_minor": 0
      },
      "text/plain": [
       "Figure(layout=FigureLayout(height='420px'))"
      ]
     },
     "metadata": {},
     "output_type": "display_data"
    }
   ],
   "source": [
    "sites_layer = gmaps.symbol_layer(\n",
    "all_cords, fill_color='red', stroke_color='red'\n",
    ")\n",
    "\n",
    "# This code plots all the sites as a bubble plot (However, it is too slow as there are more than 1k points)\n",
    "fig.add_layer(sites_layer)\n",
    "fig"
   ]
  },
  {
   "cell_type": "code",
   "execution_count": 60,
   "id": "addressed-possession",
   "metadata": {},
   "outputs": [
    {
     "data": {
      "application/vnd.jupyter.widget-view+json": {
       "model_id": "4a6dd1587cf0441d8cab9235385a207c",
       "version_major": 2,
       "version_minor": 0
      },
      "text/plain": [
       "Figure(layout=FigureLayout(height='420px'))"
      ]
     },
     "metadata": {},
     "output_type": "display_data"
    }
   ],
   "source": [
    "#Create the map\n",
    "#fig = gmaps.figure()\n",
    "#create the layer\n",
    "#layer1 = gmaps.directions.Directions((-34.8389048, 138.4839665), (-34.8390558, 138.5021301), mode='car')\n",
    "#layer2 = gmaps.directions.Directions((-34.8390558, 138.5021301), (-34.837939, 138.5028254), mode='car')\n",
    "#layer3 = gmaps.directions.Directions((-34.837939, 138.5028254), (-34.8034296, 138.6046136), mode='car')\n",
    "#layer4 = gmaps.directions.Directions((-34.8034296, 138.6046136), (-34.8013831, 138.6064409), mode='car')\n",
    "#layer5 = gmaps.directions.Directions((-34.8013831, 138.6064409), (-34.8090307, 138.631388), mode='car')\n",
    "#layer6 = gmaps.directions.Directions((-34.8090307, 138.631388), (-34.81522229999999, 138.6417416), mode='car')\n",
    "#layer7 = gmaps.directions.Directions((-34.81522229999999, 138.6417416), (-34.8241442, 138.6359468), mode='car')\n",
    "#layer8 = gmaps.directions.Directions((-34.8241442, 138.6359468), (-34.8295101, 138.6615781), mode='car')\n",
    "#layer9 = gmaps.directions.Directions((-34.8295101, 138.6615781), (-34.8297288, 138.6616282), mode='car')\n",
    "#layer = gmaps.directions.Directions(source, destination, waypoints=[montreux], mode='car')\n",
    "#Add the layer\n",
    "#fig.add_layer(layer)\n",
    "#fig.add_layer(layer1)\n",
    "#fig.add_layer(layer2)\n",
    "#fig.add_layer(layer3)\n",
    "#fig.add_layer(layer4)\n",
    "#fig.add_layer(layer5)\n",
    "#fig.add_layer(layer6)\n",
    "#fig.add_layer(layer7)\n",
    "#fig.add_layer(layer8)\n",
    "#fig.add_layer(layer9)\n",
    "#fig\n"
   ]
  },
  {
   "cell_type": "code",
   "execution_count": 65,
   "id": "shared-projection",
   "metadata": {},
   "outputs": [],
   "source": [
    "#print(now)"
   ]
  },
  {
   "cell_type": "code",
   "execution_count": 129,
   "id": "polished-lawrence",
   "metadata": {},
   "outputs": [
    {
     "data": {
      "text/plain": [
       "1.6577779306719065"
      ]
     },
     "execution_count": 129,
     "metadata": {},
     "output_type": "execute_result"
    }
   ],
   "source": [
    "#import haversine as hs\n",
    "#loc1=(-34.8389048, 138.4839665)\n",
    "#loc2=(-34.8390558, 138.5021301)\n",
    "#hs.haversine(loc1,loc2)"
   ]
  },
  {
   "cell_type": "code",
   "execution_count": 84,
   "id": "hearing-invite",
   "metadata": {},
   "outputs": [
    {
     "data": {
      "text/html": [
       "<div>\n",
       "<style scoped>\n",
       "    .dataframe tbody tr th:only-of-type {\n",
       "        vertical-align: middle;\n",
       "    }\n",
       "\n",
       "    .dataframe tbody tr th {\n",
       "        vertical-align: top;\n",
       "    }\n",
       "\n",
       "    .dataframe thead th {\n",
       "        text-align: right;\n",
       "    }\n",
       "</style>\n",
       "<table border=\"1\" class=\"dataframe\">\n",
       "  <thead>\n",
       "    <tr style=\"text-align: right;\">\n",
       "      <th></th>\n",
       "      <th>0</th>\n",
       "      <th>1</th>\n",
       "      <th>2</th>\n",
       "      <th>3</th>\n",
       "      <th>4</th>\n",
       "      <th>5</th>\n",
       "      <th>6</th>\n",
       "      <th>7</th>\n",
       "      <th>8</th>\n",
       "      <th>9</th>\n",
       "    </tr>\n",
       "    <tr>\n",
       "      <th>Source</th>\n",
       "      <th></th>\n",
       "      <th></th>\n",
       "      <th></th>\n",
       "      <th></th>\n",
       "      <th></th>\n",
       "      <th></th>\n",
       "      <th></th>\n",
       "      <th></th>\n",
       "      <th></th>\n",
       "      <th></th>\n",
       "    </tr>\n",
       "  </thead>\n",
       "  <tbody>\n",
       "    <tr>\n",
       "      <th>2</th>\n",
       "      <td>3.764551</td>\n",
       "      <td>3.161636</td>\n",
       "      <td>1.298208</td>\n",
       "      <td>0.302343</td>\n",
       "      <td>4.670422</td>\n",
       "      <td>4.888769</td>\n",
       "      <td>5.790907</td>\n",
       "      <td>5.797546</td>\n",
       "      <td>7.232169</td>\n",
       "      <td>7.918556</td>\n",
       "    </tr>\n",
       "    <tr>\n",
       "      <th>3</th>\n",
       "      <td>14.797156</td>\n",
       "      <td>13.516072</td>\n",
       "      <td>13.916577</td>\n",
       "      <td>12.776345</td>\n",
       "      <td>8.530565</td>\n",
       "      <td>9.040420</td>\n",
       "      <td>8.397785</td>\n",
       "      <td>8.521864</td>\n",
       "      <td>7.590851</td>\n",
       "      <td>7.186469</td>\n",
       "    </tr>\n",
       "    <tr>\n",
       "      <th>4</th>\n",
       "      <td>19.681925</td>\n",
       "      <td>18.455179</td>\n",
       "      <td>18.052486</td>\n",
       "      <td>16.589499</td>\n",
       "      <td>12.179815</td>\n",
       "      <td>11.993541</td>\n",
       "      <td>11.098137</td>\n",
       "      <td>11.127419</td>\n",
       "      <td>9.699355</td>\n",
       "      <td>9.013476</td>\n",
       "    </tr>\n",
       "    <tr>\n",
       "      <th>6</th>\n",
       "      <td>18.517507</td>\n",
       "      <td>17.262417</td>\n",
       "      <td>17.095833</td>\n",
       "      <td>15.706151</td>\n",
       "      <td>11.237110</td>\n",
       "      <td>11.239611</td>\n",
       "      <td>10.378165</td>\n",
       "      <td>10.435772</td>\n",
       "      <td>9.072159</td>\n",
       "      <td>8.420179</td>\n",
       "    </tr>\n",
       "    <tr>\n",
       "      <th>7</th>\n",
       "      <td>17.561037</td>\n",
       "      <td>16.304028</td>\n",
       "      <td>16.165636</td>\n",
       "      <td>14.789655</td>\n",
       "      <td>10.318331</td>\n",
       "      <td>10.359414</td>\n",
       "      <td>9.509519</td>\n",
       "      <td>9.573739</td>\n",
       "      <td>8.234986</td>\n",
       "      <td>7.597795</td>\n",
       "    </tr>\n",
       "    <tr>\n",
       "      <th>...</th>\n",
       "      <td>...</td>\n",
       "      <td>...</td>\n",
       "      <td>...</td>\n",
       "      <td>...</td>\n",
       "      <td>...</td>\n",
       "      <td>...</td>\n",
       "      <td>...</td>\n",
       "      <td>...</td>\n",
       "      <td>...</td>\n",
       "      <td>...</td>\n",
       "    </tr>\n",
       "    <tr>\n",
       "      <th>20967</th>\n",
       "      <td>12.545269</td>\n",
       "      <td>11.662415</td>\n",
       "      <td>10.106551</td>\n",
       "      <td>8.543209</td>\n",
       "      <td>5.915348</td>\n",
       "      <td>4.810292</td>\n",
       "      <td>4.317726</td>\n",
       "      <td>4.175618</td>\n",
       "      <td>3.731195</td>\n",
       "      <td>3.724341</td>\n",
       "    </tr>\n",
       "    <tr>\n",
       "      <th>20968</th>\n",
       "      <td>6.689463</td>\n",
       "      <td>6.729401</td>\n",
       "      <td>9.119473</td>\n",
       "      <td>10.116412</td>\n",
       "      <td>11.832200</td>\n",
       "      <td>12.850816</td>\n",
       "      <td>13.486524</td>\n",
       "      <td>13.597774</td>\n",
       "      <td>14.635989</td>\n",
       "      <td>15.142844</td>\n",
       "    </tr>\n",
       "    <tr>\n",
       "      <th>20969</th>\n",
       "      <td>6.149258</td>\n",
       "      <td>6.355772</td>\n",
       "      <td>8.683624</td>\n",
       "      <td>9.791232</td>\n",
       "      <td>11.861641</td>\n",
       "      <td>12.829571</td>\n",
       "      <td>13.510521</td>\n",
       "      <td>13.612869</td>\n",
       "      <td>14.716710</td>\n",
       "      <td>15.252627</td>\n",
       "    </tr>\n",
       "    <tr>\n",
       "      <th>20970</th>\n",
       "      <td>12.545269</td>\n",
       "      <td>11.662415</td>\n",
       "      <td>10.106551</td>\n",
       "      <td>8.543209</td>\n",
       "      <td>5.915348</td>\n",
       "      <td>4.810292</td>\n",
       "      <td>4.317726</td>\n",
       "      <td>4.175618</td>\n",
       "      <td>3.731195</td>\n",
       "      <td>3.724341</td>\n",
       "    </tr>\n",
       "    <tr>\n",
       "      <th>20971</th>\n",
       "      <td>12.545269</td>\n",
       "      <td>11.662415</td>\n",
       "      <td>10.106551</td>\n",
       "      <td>8.543209</td>\n",
       "      <td>5.915348</td>\n",
       "      <td>4.810292</td>\n",
       "      <td>4.317726</td>\n",
       "      <td>4.175618</td>\n",
       "      <td>3.731195</td>\n",
       "      <td>3.724341</td>\n",
       "    </tr>\n",
       "  </tbody>\n",
       "</table>\n",
       "<p>1189 rows × 10 columns</p>\n",
       "</div>"
      ],
      "text/plain": [
       "                0          1          2          3          4          5  \\\n",
       "Source                                                                     \n",
       "2        3.764551   3.161636   1.298208   0.302343   4.670422   4.888769   \n",
       "3       14.797156  13.516072  13.916577  12.776345   8.530565   9.040420   \n",
       "4       19.681925  18.455179  18.052486  16.589499  12.179815  11.993541   \n",
       "6       18.517507  17.262417  17.095833  15.706151  11.237110  11.239611   \n",
       "7       17.561037  16.304028  16.165636  14.789655  10.318331  10.359414   \n",
       "...           ...        ...        ...        ...        ...        ...   \n",
       "20967   12.545269  11.662415  10.106551   8.543209   5.915348   4.810292   \n",
       "20968    6.689463   6.729401   9.119473  10.116412  11.832200  12.850816   \n",
       "20969    6.149258   6.355772   8.683624   9.791232  11.861641  12.829571   \n",
       "20970   12.545269  11.662415  10.106551   8.543209   5.915348   4.810292   \n",
       "20971   12.545269  11.662415  10.106551   8.543209   5.915348   4.810292   \n",
       "\n",
       "                6          7          8          9  \n",
       "Source                                              \n",
       "2        5.790907   5.797546   7.232169   7.918556  \n",
       "3        8.397785   8.521864   7.590851   7.186469  \n",
       "4       11.098137  11.127419   9.699355   9.013476  \n",
       "6       10.378165  10.435772   9.072159   8.420179  \n",
       "7        9.509519   9.573739   8.234986   7.597795  \n",
       "...           ...        ...        ...        ...  \n",
       "20967    4.317726   4.175618   3.731195   3.724341  \n",
       "20968   13.486524  13.597774  14.635989  15.142844  \n",
       "20969   13.510521  13.612869  14.716710  15.252627  \n",
       "20970    4.317726   4.175618   3.731195   3.724341  \n",
       "20971    4.317726   4.175618   3.731195   3.724341  \n",
       "\n",
       "[1189 rows x 10 columns]"
      ]
     },
     "execution_count": 84,
     "metadata": {},
     "output_type": "execute_result"
    }
   ],
   "source": [
    "# Extracting the Distance Matrix of all the Nodes and the Coordinates of the Chosen Path using the 'Haversine Formula'\n",
    "\n",
    "import haversine as hs\n",
    "\n",
    "a = []\n",
    "c = []\n",
    "d = pd.DataFrame()\n",
    "\n",
    "for i in range(0, len(sites_cords)):\n",
    "    loc1 = tuple(map(float, sites_cords['sites_cords'][i].split(', ')))\n",
    "    c.append(sites_cords['sites_cords'][i])\n",
    "\n",
    "    for j in range(0, len(all_start_end_cords)):\n",
    "        loc2 = tuple(map(float, all_start_end_cords[j].split(', ')))\n",
    "        b = hs.haversine(loc1,loc2)\n",
    "        a.append(b)\n",
    "    \n",
    "    a = pd.DataFrame(a)\n",
    "    a = a.T\n",
    "    d = pd.concat([d,a])\n",
    "    a = []\n",
    "    \n",
    "d = d.reset_index(drop = True)\n",
    "d.index = sites['Source']\n",
    "d"
   ]
  },
  {
   "cell_type": "code",
   "execution_count": 85,
   "id": "boolean-tokyo",
   "metadata": {},
   "outputs": [],
   "source": [
    "a = []\n",
    "e = pd.DataFrame()\n",
    "\n",
    "for i in range(0,len(d)):\n",
    "    for j in range(0, len(d.T)):\n",
    "        if(d.iloc[i,j] <= 0.5):\n",
    "            a.append(d.index[i])\n",
    "\n",
    "a = list(set(a))\n",
    "a\n",
    "\n",
    "for i in range(0, len(a)):\n",
    "    b = a[i]\n",
    "    c = sites[['latitude','longitude']][sites['Source'] == b]\n",
    "    #c = sites[['Source','latitude','longitude']][sites['Source'] == b] # Check whether the Source Ids are mathhing between a & e\n",
    "    e = pd.concat([e, c])\n",
    "    "
   ]
  },
  {
   "cell_type": "code",
   "execution_count": 220,
   "id": "front-basis",
   "metadata": {},
   "outputs": [
    {
     "data": {
      "text/plain": [
       "pandas.core.frame.DataFrame"
      ]
     },
     "execution_count": 220,
     "metadata": {},
     "output_type": "execute_result"
    }
   ],
   "source": [
    "#sites[['Source','latitude','longitude']][sites['Source'] == 20887]"
   ]
  },
  {
   "cell_type": "code",
   "execution_count": 86,
   "id": "exclusive-customs",
   "metadata": {},
   "outputs": [
    {
     "data": {
      "application/vnd.jupyter.widget-view+json": {
       "model_id": "0b604a9fef8945be8107884c4513ccfe",
       "version_major": 2,
       "version_minor": 0
      },
      "text/plain": [
       "Figure(layout=FigureLayout(height='420px'))"
      ]
     },
     "metadata": {},
     "output_type": "display_data"
    }
   ],
   "source": [
    "sites_layer = gmaps.symbol_layer(\n",
    "e, fill_color='green', stroke_color='green'\n",
    ")\n",
    "\n",
    "# This code plots all the sites as a bubble plot (However, it is too slow as there are more than 1k points)\n",
    "fig.add_layer(sites_layer)\n",
    "fig.add_layer(gmaps.traffic_layer()) # Adds information related to the current state of traffic\n",
    "fig"
   ]
  }
 ],
 "metadata": {
  "kernelspec": {
   "display_name": "Python 3",
   "language": "python",
   "name": "python3"
  },
  "language_info": {
   "codemirror_mode": {
    "name": "ipython",
    "version": 3
   },
   "file_extension": ".py",
   "mimetype": "text/x-python",
   "name": "python",
   "nbconvert_exporter": "python",
   "pygments_lexer": "ipython3",
   "version": "3.7.9"
  }
 },
 "nbformat": 4,
 "nbformat_minor": 5
}
